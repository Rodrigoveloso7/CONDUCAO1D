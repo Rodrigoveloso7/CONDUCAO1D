{
  "nbformat": 4,
  "nbformat_minor": 0,
  "metadata": {
    "colab": {
      "provenance": [],
      "authorship_tag": "ABX9TyNhPuzFqGAMwraBpIjQMl4n",
      "include_colab_link": true
    },
    "kernelspec": {
      "name": "python3",
      "display_name": "Python 3"
    },
    "language_info": {
      "name": "python"
    }
  },
  "cells": [
    {
      "cell_type": "markdown",
      "metadata": {
        "id": "view-in-github",
        "colab_type": "text"
      },
      "source": [
        "<a href=\"https://colab.research.google.com/github/Rodrigoveloso7/CONDUCAO1D/blob/main/Dimensionamento_Desumidificador.ipynb\" target=\"_parent\"><img src=\"https://colab.research.google.com/assets/colab-badge.svg\" alt=\"Open In Colab\"/></a>"
      ]
    },
    {
      "cell_type": "markdown",
      "source": [
        "#Instalação bibliotecas"
      ],
      "metadata": {
        "id": "3WYCKHwsP8Ad"
      }
    },
    {
      "cell_type": "code",
      "source": [
        "# pip install CoolProp\n"
      ],
      "metadata": {
        "id": "gVJzF1TFQCjV"
      },
      "execution_count": 323,
      "outputs": []
    },
    {
      "cell_type": "code",
      "source": [
        "# pip install ht"
      ],
      "metadata": {
        "id": "SDngztnSQIC-"
      },
      "execution_count": 324,
      "outputs": []
    },
    {
      "cell_type": "code",
      "execution_count": 325,
      "metadata": {
        "id": "aAZx-iASCa5d"
      },
      "outputs": [],
      "source": [
        "import numpy as np\n",
        "from CoolProp.CoolProp import PropsSI\n",
        "import ht as ht\n",
        "import ht.boiling_flow as bf"
      ]
    },
    {
      "cell_type": "markdown",
      "source": [
        "#Condições de operação Biogás"
      ],
      "metadata": {
        "id": "HJ1idXd6NPj7"
      }
    },
    {
      "cell_type": "code",
      "source": [
        "fracoes_volumetricas = {\"Methane\":0.60,\"CarbonDioxide\":0.35,\"Water\":0.05} # Frações volumétricas dos componentes do biogás\n",
        "# fracoes_volumetricas = {\"Nitrogen\":0.7691,\"Oxygen\":0.2078,'Argon':0.0092,'CarbonDioxide':0.0004,'Water':0.017} # Frações volumétricas dos componentes do biogás\n",
        "# fracoes_volumetricas = {\"Methane\":0.637,\"CarbonDioxide\":0.35,\"Water\":0.013}"
      ],
      "metadata": {
        "id": "ms3Qld6vCt7J"
      },
      "execution_count": 326,
      "outputs": []
    },
    {
      "cell_type": "code",
      "source": [
        "P_entrada_biogas = 33.34*1000 # [Pa] - Pressão de admissão do biogás\n",
        "T_entrada_biogas = 273.15+ 73.4# [K] - Temperatura de admissão do biogás\n",
        "T_referencia = 273.15 # [K] - Temperatura de referência\n",
        "P_referencia = 101325 # [Pa] - Pressão de referência\n",
        "vazao_normal_biogas = 60 # [Nm³/h] - Vazão volumétrica normalizada do biogás\n",
        "T_alvo_biogas = 273.15 # [K] - Temperatura pretendida do biogás na saída\n",
        "T_alvo_arrefecimento = 273.15-1 # [K] - Temperatura pretendida do líquido de arrefecimento\n",
        "T_ambiente = 273.15+25 # [K] - Temperatura Ambiente\n",
        "P_ambiente = 101325 # [Pa] - Pressão ambiente"
      ],
      "metadata": {
        "id": "-KMyPMBuFF7k"
      },
      "execution_count": 327,
      "outputs": []
    },
    {
      "cell_type": "markdown",
      "source": [
        "#Propriedades geométricas casco"
      ],
      "metadata": {
        "id": "sHw1sAugkXVl"
      }
    },
    {
      "cell_type": "code",
      "source": [
        "diam_casco = 330/1000 # m Diâmetro interno do casco\n",
        "diam_entrada_arrefecimento = 19.05/1000 # m Diâmetro de entrada do fluido de arrefecimento\n",
        "comprimento_casco = 1995/1000 # m Comprimento do casco\n",
        "volume_arrefecimento = ((np.pi*((diam_casco)**2))/4)*comprimento_casco # m³ Volume do fluido de arrefecimento (mistura água + monoetilenoglicol)\n",
        "\n",
        "\n"
      ],
      "metadata": {
        "id": "cHK0rrBvkbL9"
      },
      "execution_count": 328,
      "outputs": []
    },
    {
      "cell_type": "markdown",
      "source": [
        "# Propriedades geométricas serpentina"
      ],
      "metadata": {
        "id": "t0jmsheyvioR"
      }
    },
    {
      "cell_type": "code",
      "source": [
        "diam_hel_serp = 270/1000 # m Diâmetro da espira\n",
        "dext_serp = 12.7/1000 # m Diâmetro externo da serpentina\n",
        "espessura_serp = 1.2/1000 # m Espessura da serpentina\n",
        "diam_interno_serp = dext_serp-2*espessura_serp # m Diâmetro interno da serpentina"
      ],
      "metadata": {
        "id": "2qiMGIG6RBkO"
      },
      "execution_count": 329,
      "outputs": []
    },
    {
      "cell_type": "markdown",
      "source": [
        "#Condições de operação líquido de arrefecimento"
      ],
      "metadata": {
        "id": "GsfXF6JAlNtp"
      }
    },
    {
      "cell_type": "markdown",
      "source": [
        "https://www.engineeringtoolbox.com/ethylene-glycol-d_146.html\n",
        "\n",
        "Considerando uma mistura 80% água e 20% monoetilenoglicol para obter uma temperatura de solidificação de -7.9C"
      ],
      "metadata": {
        "id": "4lbWKWYpjOix"
      }
    },
    {
      "cell_type": "code",
      "source": [
        "cp_arrefecimento = 3.951*1000 # J/kg.K\n",
        "densidade_arrefecimento = 1030 # kg/m³\n",
        "viscosidade_dinamica_arrefecimento = 1.42/1000 # Pa.s Este valor foi obtido em cima de fracao massica\n",
        "k_arrefecimento = 0.55 # W/mK\n",
        "massa_arrefecimento = volume_arrefecimento*densidade_arrefecimento #kg\n",
        "massa_arrefecimento\n",
        "tempo_arrefecimento = 60*40 # segundos"
      ],
      "metadata": {
        "id": "50iz3-ECjxJ3"
      },
      "execution_count": 330,
      "outputs": []
    },
    {
      "cell_type": "code",
      "source": [
        "vazao_volumetrica_bomba = 1.8/3600 #m³/s\n",
        "vazao_massica_bomba = vazao_volumetrica_bomba*densidade_arrefecimento\n",
        "u_casco = vazao_volumetrica_bomba/((np.pi*((diam_entrada_arrefecimento))**(2))/4)\n",
        "u_casco = u_casco*0.5"
      ],
      "metadata": {
        "id": "Qztb_kCztDvJ"
      },
      "execution_count": 331,
      "outputs": []
    },
    {
      "cell_type": "code",
      "source": [
        "vazao_volumetrica_biogas_entrada = (vazao_normal_biogas*(P_referencia/P_entrada_biogas)*(T_entrada_biogas/T_referencia))/3600 #m³/s\n",
        "massa_molar_total_entrada = 0\n",
        "for elementos in fracoes_volumetricas:\n",
        "    massa_molar_total_entrada = massa_molar_total_entrada + fracoes_volumetricas[elementos]*PropsSI('M', 'T', T_entrada_biogas, 'P', P_entrada_biogas, elementos)\n",
        "densidade_operacao_biogas = (P_entrada_biogas*massa_molar_total_entrada)/(8.314*T_entrada_biogas)\n",
        "vazao_massica_biogas = vazao_volumetrica_biogas_entrada*densidade_operacao_biogas\n"
      ],
      "metadata": {
        "id": "GTxnad2hQHSf"
      },
      "execution_count": 332,
      "outputs": []
    },
    {
      "cell_type": "code",
      "source": [
        "densidade_operacao_biogas"
      ],
      "metadata": {
        "colab": {
          "base_uri": "https://localhost:8080/"
        },
        "id": "Yym3lttPwrFh",
        "outputId": "72b5c9da-e2a8-40a0-a137-28b89c8418ea"
      },
      "execution_count": 333,
      "outputs": [
        {
          "output_type": "execute_result",
          "data": {
            "text/plain": [
              "0.3000475386512928"
            ]
          },
          "metadata": {},
          "execution_count": 333
        }
      ]
    },
    {
      "cell_type": "code",
      "source": [
        "massa_molar_total = 0\n",
        "cp_biogas = 0\n",
        "for elementos in fracoes_volumetricas:\n",
        "  massa_molar_total = massa_molar_total + fracoes_volumetricas[elementos]*PropsSI('M', 'T', T_entrada_biogas, 'P', P_entrada_biogas, elementos)\n",
        "massa_molar_total"
      ],
      "metadata": {
        "colab": {
          "base_uri": "https://localhost:8080/"
        },
        "id": "Kdah_c-h57rR",
        "outputId": "d723539b-ac22-44de-a191-6e5ede343829"
      },
      "execution_count": 334,
      "outputs": [
        {
          "output_type": "execute_result",
          "data": {
            "text/plain": [
              "0.0259298734"
            ]
          },
          "metadata": {},
          "execution_count": 334
        }
      ]
    },
    {
      "cell_type": "markdown",
      "source": [
        "#Função para definição de calor específico do biogás em função da pressão e temperatura"
      ],
      "metadata": {
        "id": "286dfjSqeZ1a"
      }
    },
    {
      "cell_type": "code",
      "source": [
        "def cp_biogas(P_biogas,T_biogas):\n",
        "   massa_molar_total = 0\n",
        "   cp_biogas = 0\n",
        "   for elementos in fracoes_volumetricas:\n",
        "    massa_molar_total = massa_molar_total + fracoes_volumetricas[elementos]*PropsSI('M', 'T', T_biogas, 'P', P_biogas, elementos)\n",
        "   #print(massa_molar_total)\n",
        "   for elementos in fracoes_volumetricas:\n",
        "    cp_biogas = cp_biogas + (((PropsSI('M', 'T', T_biogas, 'P', P_biogas*fracoes_volumetricas[elementos], elementos)*fracoes_volumetricas[elementos])/massa_molar_total)*PropsSI('C', 'T', T_biogas, 'P', P_biogas*fracoes_volumetricas[elementos], elementos))\n",
        "   return cp_biogas"
      ],
      "metadata": {
        "id": "r4gcRAoQEa6f"
      },
      "execution_count": 335,
      "outputs": []
    },
    {
      "cell_type": "markdown",
      "source": [
        "#Função para determinação de carga termica"
      ],
      "metadata": {
        "id": "Egr2sesbhl4y"
      }
    },
    {
      "cell_type": "code",
      "source": [
        "def carga_termica():\n",
        "  divisoes = 200\n",
        "  Qsens_biogas = 0\n",
        "  T = np.linspace(T_entrada_biogas,T_alvo_biogas,divisoes)\n",
        "  for i in range(len(T)-1):\n",
        "    cp = cp_biogas(P_entrada_biogas,(T[i]+T[i+1])/2)\n",
        "    Qsens_biogas = vazao_massica_biogas*cp*(T[i] - T[i+1]) + Qsens_biogas\n",
        "    cp= 0\n",
        "  Qlat_biogas = vazao_massica_biogas*(fracoes_volumetricas['Water']*PropsSI('M', 'T', T_entrada_biogas, 'P', P_entrada_biogas, elementos)/massa_molar_total_entrada)*(((PropsSI(\"H\", \"T\", T_alvo_biogas, \"Q\", 1, \"Water\")) - PropsSI(\"H\", \"T\", T_alvo_biogas, \"Q\", 0, \"Water\")))\n",
        "  Q_arrefecimento = massa_arrefecimento*cp_arrefecimento*(T_ambiente - T_alvo_arrefecimento)/tempo_arrefecimento\n",
        "  Qtotal = Qlat_biogas + Qsens_biogas +Q_arrefecimento\n",
        "  return Qtotal,Qlat_biogas,Qsens_biogas,Q_arrefecimento"
      ],
      "metadata": {
        "id": "RWntsFc0PNW2"
      },
      "execution_count": 336,
      "outputs": []
    },
    {
      "cell_type": "code",
      "source": [
        "carga_termica()"
      ],
      "metadata": {
        "colab": {
          "base_uri": "https://localhost:8080/"
        },
        "id": "LbKsSmvjUEqV",
        "outputId": "27ec1824-5996-4fa4-deb2-de5ea5175535"
      },
      "execution_count": 337,
      "outputs": [
        {
          "output_type": "execute_result",
          "data": {
            "text/plain": [
              "(np.float64(11219.792543233192),\n",
              " 1675.2046467199623,\n",
              " np.float64(2022.004314721665),\n",
              " 7522.583581791565)"
            ]
          },
          "metadata": {},
          "execution_count": 337
        }
      ]
    },
    {
      "cell_type": "markdown",
      "source": [
        "#Calculando comprimento evaporador"
      ],
      "metadata": {
        "id": "wQ7jxB0Hri_H"
      }
    },
    {
      "cell_type": "markdown",
      "source": [
        "Definição da vazão mássica a partir da carga térmica, utilizando software CoolSelector da Danfoss\n"
      ],
      "metadata": {
        "id": "lPHg4FeoueYe"
      }
    },
    {
      "cell_type": "code",
      "source": [
        "vazao_massica_refri = 240.3/3600 #kg/s\n",
        "T_evap = 273.15-10 # K\n",
        "P_entrada_evap = 235.4*1000 #Pa\n",
        "x_ini = 0.3 # fração de vapor na entrada do evaporador\n",
        "Q_lat_refr = vazao_massica_refri*(((PropsSI(\"H\", \"T\", T_evap, \"Q\", 1, \"R22\")) - PropsSI(\"H\", \"T\", T_evap, \"Q\", 0.3, \"R22\")))\n",
        "Q_lat_refr # W"
      ],
      "metadata": {
        "colab": {
          "base_uri": "https://localhost:8080/"
        },
        "id": "rgVqNIF9uosS",
        "outputId": "adcf38e5-4e2b-495d-84bd-e48defe1234f"
      },
      "execution_count": 338,
      "outputs": [
        {
          "output_type": "execute_result",
          "data": {
            "text/plain": [
              "9942.75827141813"
            ]
          },
          "metadata": {},
          "execution_count": 338
        }
      ]
    },
    {
      "cell_type": "code",
      "source": [
        "T_sat = T_evap\n",
        "fluid = 'R22'\n",
        "divisoes = 100\n",
        "superaquecimento = 20\n",
        "T_range_superaquecimento = np.linspace(T_sat,T_sat+ superaquecimento,divisoes)\n",
        "k_inox = 16\n",
        "Re_casco = (densidade_arrefecimento*u_casco*diam_hel_serp)/(viscosidade_dinamica_arrefecimento)\n",
        "Pr_casco = (cp_arrefecimento*viscosidade_dinamica_arrefecimento)/(k_arrefecimento)"
      ],
      "metadata": {
        "id": "F97GNukQgio1"
      },
      "execution_count": 339,
      "outputs": []
    },
    {
      "cell_type": "markdown",
      "source": [
        "https://www.sciencedirect.com/science/article/abs/pii/S0140700714002369"
      ],
      "metadata": {
        "id": "0vBbqgY-8ci2"
      }
    },
    {
      "cell_type": "markdown",
      "source": [
        "https://jingweizhu.weebly.com/uploads/1/3/5/4/13548262/summary_of_chen%E2%80%99s_correlation_for_boiling_heat_transfer_to_saturated_fluids_in_convective_flow.pdf\n",
        "\n",
        "Esse e descrição do chat gpt\n"
      ],
      "metadata": {
        "id": "-MqBWsMu95n3"
      }
    },
    {
      "cell_type": "code",
      "source": [
        "# Propriedades obtidas na linha de saturação\n",
        "rhol = PropsSI('D', 'T', T_evap, 'Q', 0, fluid)       # kg/m³\n",
        "rhog = PropsSI('D', 'T', T_evap, 'Q', 1, fluid)       # kg/m³\n",
        "mul  = PropsSI('V', 'T', T_evap, 'Q', 0, fluid)       # Pa.s\n",
        "mug  = PropsSI('V', 'T', T_evap, 'Q', 1, fluid)       # Pa.s\n",
        "kl   = PropsSI('L', 'T', T_evap, 'Q', 0, fluid)       # W/m.K\n",
        "Cpl  = PropsSI('C', 'T', T_evap, 'Q', 0, fluid)       # J/kg.K\n",
        "Hvap = PropsSI('H', 'T', T_evap, 'Q', 1, fluid) - \\\n",
        "      PropsSI('H', 'T', T_evap, 'Q', 0, fluid)       # J/kg\n",
        "sigma = PropsSI('SURFACE_TENSION', 'T', T_evap, 'Q', 0, fluid)  # N/m\n",
        "\n",
        "\n",
        "x = np.linspace(x_ini,0.99, divisoes)\n",
        "x"
      ],
      "metadata": {
        "id": "ZYljIrUXGo7C",
        "colab": {
          "base_uri": "https://localhost:8080/"
        },
        "outputId": "8f7e36a0-5de0-4084-dd6d-ae9c83b47a06"
      },
      "execution_count": 340,
      "outputs": [
        {
          "output_type": "execute_result",
          "data": {
            "text/plain": [
              "array([0.3       , 0.3069697 , 0.31393939, 0.32090909, 0.32787879,\n",
              "       0.33484848, 0.34181818, 0.34878788, 0.35575758, 0.36272727,\n",
              "       0.36969697, 0.37666667, 0.38363636, 0.39060606, 0.39757576,\n",
              "       0.40454545, 0.41151515, 0.41848485, 0.42545455, 0.43242424,\n",
              "       0.43939394, 0.44636364, 0.45333333, 0.46030303, 0.46727273,\n",
              "       0.47424242, 0.48121212, 0.48818182, 0.49515152, 0.50212121,\n",
              "       0.50909091, 0.51606061, 0.5230303 , 0.53      , 0.5369697 ,\n",
              "       0.54393939, 0.55090909, 0.55787879, 0.56484848, 0.57181818,\n",
              "       0.57878788, 0.58575758, 0.59272727, 0.59969697, 0.60666667,\n",
              "       0.61363636, 0.62060606, 0.62757576, 0.63454545, 0.64151515,\n",
              "       0.64848485, 0.65545455, 0.66242424, 0.66939394, 0.67636364,\n",
              "       0.68333333, 0.69030303, 0.69727273, 0.70424242, 0.71121212,\n",
              "       0.71818182, 0.72515152, 0.73212121, 0.73909091, 0.74606061,\n",
              "       0.7530303 , 0.76      , 0.7669697 , 0.77393939, 0.78090909,\n",
              "       0.78787879, 0.79484848, 0.80181818, 0.80878788, 0.81575758,\n",
              "       0.82272727, 0.82969697, 0.83666667, 0.84363636, 0.85060606,\n",
              "       0.85757576, 0.86454545, 0.87151515, 0.87848485, 0.88545455,\n",
              "       0.89242424, 0.89939394, 0.90636364, 0.91333333, 0.92030303,\n",
              "       0.92727273, 0.93424242, 0.94121212, 0.94818182, 0.95515152,\n",
              "       0.96212121, 0.96909091, 0.97606061, 0.9830303 , 0.99      ])"
            ]
          },
          "metadata": {},
          "execution_count": 340
        }
      ]
    },
    {
      "cell_type": "markdown",
      "source": [
        "CORRELAÇÃO CHEN"
      ],
      "metadata": {
        "id": "y_G49qHy22vg"
      }
    },
    {
      "cell_type": "code",
      "source": [
        "def correlacao_chen(x,fluid):\n",
        "  # Fluido e condições de operação\n",
        "  fluid = fluid\n",
        "  T_sat = T_evap  # Temperatura de saturação em K (100 °C)\n",
        "  Te = 8        # Superaquecimento da parede (T_wall - T_sat) em K         # Título de vapor\n",
        "  # Derivada da pressão de saturação em função da temperatura (dPsat/dT)\n",
        "  delta_T = 0.01  # K\n",
        "  p1 = PropsSI('P', 'T', T_sat - delta_T, 'Q', 0, fluid)\n",
        "  p2 = PropsSI('P', 'T', T_sat + delta_T, 'Q', 0, fluid)\n",
        "  dPsat = (p2 - p1) / (2 * delta_T)  # Pa/K\n",
        "\n",
        "  # Cálculo do coeficiente de convecção\n",
        "  h = bf.Chen_Bennett(vazao_massica_refri, x, diam_interno_serp, rhol, rhog, mul, mug, kl, Cpl, Hvap, sigma, dPsat, Te)\n",
        "  return h\n"
      ],
      "metadata": {
        "id": "LEF6vB8p0N3Y"
      },
      "execution_count": 341,
      "outputs": []
    },
    {
      "cell_type": "markdown",
      "source": [
        "CORRELAÇÃO CHURCHILL BERNSTEIN"
      ],
      "metadata": {
        "id": "H3QKXQzPKCyd"
      }
    },
    {
      "cell_type": "code",
      "source": [
        "def correlacao_churchill_bernstein(Re, Pr):\n",
        "  nu_ext = ht.conv_external.Nu_cylinder_Churchill_Bernstein(Re, Pr)\n",
        "  h_externo = nu_ext*k_arrefecimento/(diam_hel_serp)\n",
        "  return h_externo"
      ],
      "metadata": {
        "id": "us47sILz7buU"
      },
      "execution_count": 342,
      "outputs": []
    },
    {
      "cell_type": "code",
      "source": [
        "def correlacao_dittus_boelter(Re, Pr,k):\n",
        "\n",
        "  Nu = ht.conv_internal.turbulent_Dittus_Boelter(Re, Pr, heating=False, revised=True)\n",
        "  h = Nu*k/diam_interno_serp\n",
        "  return h\n"
      ],
      "metadata": {
        "id": "t_sfDRKmPOBu"
      },
      "execution_count": 343,
      "outputs": []
    },
    {
      "cell_type": "code",
      "source": [
        "L_evap_vapor = 0\n",
        "for i in range(len(T_range_superaquecimento)-1):\n",
        "  Q_sup = vazao_massica_refri*PropsSI('C', 'T', (T_range_superaquecimento[i]+T_range_superaquecimento[i+1])/2, 'P', P_entrada_evap, 'R22')*(T_range_superaquecimento[i+1]-T_range_superaquecimento[i])\n",
        "  velocidade_refrigerante_vapor = vazao_massica_refri/((np.pi*(diam_interno_serp**2)/4)*(PropsSI('D', 'T', T_range_superaquecimento[i]+T_range_superaquecimento[i+1]/2, 'P', P_entrada_evap, 'R22')))\n",
        "  reynolds_vapor_refr = (velocidade_refrigerante_vapor*diam_interno_serp*PropsSI('D', 'T', (T_range_superaquecimento[i]+T_range_superaquecimento[i+1])/2, 'P', P_entrada_evap, 'R22'))/(PropsSI('V', 'T', T_range_superaquecimento[i]+T_range_superaquecimento[i+1]/2, 'P', P_entrada_evap, 'R22'))\n",
        "  Pr_vapor = (PropsSI('C', 'T', (T_range_superaquecimento[i]+T_range_superaquecimento[i+1])/2, 'P', P_entrada_evap, 'R22')*PropsSI('V', 'T', (T_range_superaquecimento[i]+T_range_superaquecimento[i+1])/2, 'P', P_entrada_evap, 'R22'))/ (PropsSI('L', 'T', (T_range_superaquecimento[i]+T_range_superaquecimento[i+1])/2, 'P', P_entrada_evap, 'R22'))\n",
        "  L_evap_vapor_temp = Q_sup*(((np.log(dext_serp/diam_interno_serp))/(2*np.pi*k_inox))+(1/correlacao_dittus_boelter(reynolds_vapor_refr, Pr_vapor,PropsSI('L', 'T', (T_range_superaquecimento[i]+T_range_superaquecimento[i+1])/2, 'P', P_entrada_evap, 'R22'))*np.pi*diam_interno_serp))+(1/(correlacao_churchill_bernstein(Re_casco, Pr_casco)*np.pi*dext_serp))*(1/(T_alvo_arrefecimento-T_evap))\n",
        "  L_evap_vapor = L_evap_vapor + L_evap_vapor_temp\n",
        "L_evap_vapor"
      ],
      "metadata": {
        "colab": {
          "base_uri": "https://localhost:8080/"
        },
        "id": "w2WUirF9Pwjz",
        "outputId": "a0c4bbd2-9ba5-4d23-8adf-0b7029e7e9b0"
      },
      "execution_count": 344,
      "outputs": [
        {
          "output_type": "execute_result",
          "data": {
            "text/plain": [
              "np.float64(2.0405577102888537)"
            ]
          },
          "metadata": {},
          "execution_count": 344
        }
      ]
    },
    {
      "cell_type": "code",
      "source": [
        "L_evap = 0\n",
        "for i in range(len(x)-1):\n",
        "  Q_lat_refr = vazao_massica_refri*(((PropsSI(\"H\", \"T\", T_evap, \"Q\", x[i+1], \"R22\")) - PropsSI(\"H\", \"T\", T_evap, \"Q\", x[i], \"R22\")))\n",
        "  L_evap_temp = Q_lat_refr*(((np.log(dext_serp/diam_interno_serp))/(2*np.pi*k_inox))+(1/(correlacao_chen(x[i],'R22')*np.pi*diam_interno_serp))+(1/(correlacao_churchill_bernstein(Re_casco, Pr_casco)*np.pi*dext_serp)))*(1/(T_alvo_arrefecimento-T_evap))\n",
        "  L_evap = L_evap + L_evap_temp\n",
        "L_evap"
      ],
      "metadata": {
        "colab": {
          "base_uri": "https://localhost:8080/"
        },
        "id": "ZDpk5wasIvjM",
        "outputId": "1a3a0854-3099-43ed-f5e2-c95cb64baa04"
      },
      "execution_count": 345,
      "outputs": [
        {
          "output_type": "execute_result",
          "data": {
            "text/plain": [
              "np.float64(21.06261721428279)"
            ]
          },
          "metadata": {},
          "execution_count": 345
        }
      ]
    },
    {
      "cell_type": "code",
      "source": [
        "L_serpentina = L_evap+L_evap_vapor\n",
        "L_serpentina"
      ],
      "metadata": {
        "colab": {
          "base_uri": "https://localhost:8080/"
        },
        "id": "2lwqf9M3PEj2",
        "outputId": "34b3c0ac-5e07-4d2e-bec0-f3ed3e79f750"
      },
      "execution_count": 346,
      "outputs": [
        {
          "output_type": "execute_result",
          "data": {
            "text/plain": [
              "np.float64(23.103174924571643)"
            ]
          },
          "metadata": {},
          "execution_count": 346
        }
      ]
    },
    {
      "cell_type": "markdown",
      "source": [
        "Cálculo região de superaquecimento"
      ],
      "metadata": {
        "id": "jEruJhTHwlma"
      }
    },
    {
      "cell_type": "markdown",
      "source": [
        "#Dimensionamento tubos colméia"
      ],
      "metadata": {
        "id": "YltJzYkt4e6L"
      }
    },
    {
      "cell_type": "markdown",
      "source": [
        "#Propriedades geométricas colméia"
      ],
      "metadata": {
        "id": "UyZWt9ST4meW"
      }
    },
    {
      "cell_type": "code",
      "source": [
        "dext_tubos = 19.05/1000 # m\n",
        "espessura_tubos = 1.2/1000 # m\n",
        "dint_tubos = dext_tubos-2*espessura_tubos # m\n",
        "A_int_tubos = np.pi*(dint_tubos**2)/4 # m²\n",
        "A_ext_tubos = np.pi*(dext_tubos**2)/4 # m²\n",
        "N = 66"
      ],
      "metadata": {
        "id": "CEA6IJUu3yn2"
      },
      "execution_count": 347,
      "outputs": []
    },
    {
      "cell_type": "markdown",
      "source": [
        "#Função para definição da viscosidade dinâmica do biogás em função da temperatura e pressão"
      ],
      "metadata": {
        "id": "WWLRJxtwj3Mn"
      }
    },
    {
      "cell_type": "code",
      "source": [
        "def visc_dinamica_biogas(P_biogas,T_biogas):\n",
        "   massa_molar_total = 0\n",
        "   visc_dinamica_biogas = 0\n",
        "   for elementos in fracoes_volumetricas:\n",
        "    massa_molar_total = massa_molar_total + fracoes_volumetricas[elementos]*PropsSI('M', 'T', T_biogas, 'P', P_biogas, elementos)\n",
        "   #print(massa_molar_total)\n",
        "   for elementos in fracoes_volumetricas:\n",
        "    visc_dinamica_biogas = visc_dinamica_biogas + (((PropsSI('M', 'T', T_biogas, 'P', P_biogas*fracoes_volumetricas[elementos], elementos)*fracoes_volumetricas[elementos])/massa_molar_total)*PropsSI('V', 'T', T_biogas, 'P', P_biogas*fracoes_volumetricas[elementos], elementos))\n",
        "   return visc_dinamica_biogas"
      ],
      "metadata": {
        "id": "zhpF4_UBy4LC"
      },
      "execution_count": 348,
      "outputs": []
    },
    {
      "cell_type": "markdown",
      "source": [
        "#Função para definição da condutividade térmica do biogás em função da temperatura e pressão"
      ],
      "metadata": {
        "id": "th5Og5Dhj_8L"
      }
    },
    {
      "cell_type": "code",
      "source": [
        "def condutividade_biogas(P_biogas,T_biogas):\n",
        "   massa_molar_total = 0\n",
        "   condutividade_biogas = 0\n",
        "   for elementos in fracoes_volumetricas:\n",
        "    massa_molar_total = massa_molar_total + fracoes_volumetricas[elementos]*PropsSI('M', 'T', T_biogas, 'P', P_biogas, elementos)\n",
        "   #print(massa_molar_total)\n",
        "   for elementos in fracoes_volumetricas:\n",
        "    condutividade_biogas = condutividade_biogas + (((PropsSI('M', 'T', T_biogas, 'P', P_biogas*fracoes_volumetricas[elementos], elementos)*fracoes_volumetricas[elementos])/massa_molar_total)*PropsSI('L', 'T', T_biogas, 'P', P_biogas*fracoes_volumetricas[elementos], elementos))\n",
        "   return condutividade_biogas"
      ],
      "metadata": {
        "id": "-W-ALvLw1gEI"
      },
      "execution_count": 349,
      "outputs": []
    },
    {
      "cell_type": "markdown",
      "source": [
        "#Função para definição de densidade do biogás em função da temperatura e pressão"
      ],
      "metadata": {
        "id": "i8xt1VWDkKQ2"
      }
    },
    {
      "cell_type": "code",
      "source": [
        "def densidade_biogas(P_biogas,T_biogas):\n",
        "   massa_molar_total = 0\n",
        "   densidade_biogas = 0\n",
        "   for elementos in fracoes_volumetricas:\n",
        "    massa_molar_total = massa_molar_total + fracoes_volumetricas[elementos]*PropsSI('M', 'T', T_biogas, 'P', P_biogas, elementos)\n",
        "   #print(massa_molar_total)\n",
        "   densidade_biogas = (P_biogas*massa_molar_total)/(8.314*T_biogas)\n",
        "   return densidade_biogas"
      ],
      "metadata": {
        "id": "1JeAUvPt4FvX"
      },
      "execution_count": 350,
      "outputs": []
    },
    {
      "cell_type": "code",
      "source": [
        "P_entrada_biogas\n",
        "T_entrada_biogas"
      ],
      "metadata": {
        "colab": {
          "base_uri": "https://localhost:8080/"
        },
        "id": "MsINsx7Fz1uY",
        "outputId": "dd1b4627-d7c9-49fe-98bd-5582131e93ed"
      },
      "execution_count": 351,
      "outputs": [
        {
          "output_type": "execute_result",
          "data": {
            "text/plain": [
              "346.54999999999995"
            ]
          },
          "metadata": {},
          "execution_count": 351
        }
      ]
    },
    {
      "cell_type": "code",
      "source": [
        "# Rt_cond_tubos = np.log(dext_tubos/dint_tubos)/(2*np.pi*k_inox)\n",
        "# vazao_massica_tubos = (vazao_massica_biogas/N)\n",
        "# print(vazao_massica_biogas)\n",
        "# print(vazao_massica_tubos)\n",
        "# Q=0\n",
        "# L_tubos_sen = 0\n",
        "# divisoes = 100\n",
        "# T = np.linspace(T_entrada_biogas,T_alvo_biogas,divisoes)\n",
        "# print(P_entrada_biogas)\n",
        "# for i in range(len(T)-1):\n",
        "#   vel_tubos = (vazao_massica_tubos/(((densidade_biogas(P_entrada_biogas,(T[i+1]+T[i])/2)))*A_int_tubos))\n",
        "#   # print(vel_tubos)\n",
        "#   reynolds_biogas_sens = ((vel_tubos*dint_tubos*densidade_biogas(P_entrada_biogas,(T[i+1]+T[i])/2)))/(visc_dinamica_biogas(P_entrada_biogas,(T[i+1]+T[i])/2))\n",
        "#   # print(reynolds_biogas_sens)\n",
        "#   Pr_biogas_sens = (cp_biogas(P_entrada_biogas,(T[i+1]+T[i])/2) *visc_dinamica_biogas(P_entrada_biogas,(T[i+1]+T[i])/2) )/(condutividade_biogas(P_entrada_biogas,(T[i+1]+T[i])/2))\n",
        "\n",
        "#   nud_db_biogas_sens = 0.023*(reynolds_biogas_sens**(0.8))*(Pr_biogas_sens**(0.4))\n",
        "#   nud_db_biogas_sens\n",
        "#   h_conv_tubos_sens = (nud_db_biogas_sens*condutividade_biogas(P_entrada_biogas,(T[i+1]+T[i])/2)/(dint_tubos))*1.3\n",
        "#   fator_atrito = (64/reynolds_biogas_sens)\n",
        "\n",
        "#   # print(h_conv_tubos_sens)\n",
        "#   # print(h_conv_tubos_sens)\n",
        "#   Rt_conv_tubos = (1/(h_conv_tubos_sens*np.pi*dint_tubos))\n",
        "#   Q_bio_sens = vazao_massica_tubos*cp_biogas(P_entrada_biogas,(T[i+1]+T[i])/2)*(-T[i+1]+T[i])\n",
        "#   L = Q_bio_sens*(Rt_cond_tubos+Rt_conv_tubos)/((((T[i+1]+T[i])/2)-T_alvo_arrefecimento))\n",
        "#   Q = Q_bio_sens + Q\n",
        "#   L_tubos_sen = L_tubos_sen + L\n",
        "#   queda_pressao = fator_atrito*L*densidade_biogas(P_entrada_biogas,(T[i+1]+T[i])/2)*(vel_tubos**2)/(2*dint_tubos)\n",
        "#   P_entrada_biogas = P_entrada_biogas - queda_pressao\n",
        "#   # print(queda_pressao)\n",
        "#   # print(Q\n",
        "#   L =0\n",
        "#   # print(Q)\n",
        "# print(L_tubos_sen)\n",
        "# print(P_entrada_biogas)\n",
        "# print(Q)"
      ],
      "metadata": {
        "id": "8s2IORiWhVBQ"
      },
      "execution_count": 352,
      "outputs": []
    },
    {
      "cell_type": "markdown",
      "source": [
        "CÁLCULO COMPRIMENTO COLMÉIA"
      ],
      "metadata": {
        "id": "i3f4QPE9l_0Z"
      }
    },
    {
      "cell_type": "code",
      "source": [
        "NT = 7\n",
        "ST = 30/1000\n",
        "SL = 30/1000"
      ],
      "metadata": {
        "id": "B14ZPAAxswzR"
      },
      "execution_count": 353,
      "outputs": []
    },
    {
      "cell_type": "code",
      "source": [
        "def correlacao_zukauskas_bejan(Re, Pr, tube_rows, pitch_parallel, pitch_normal):\n",
        "  Nu = ht.conv_tube_bank.Nu_Zukauskas_Bejan(Re, Pr, tube_rows, pitch_parallel, pitch_normal, Pr_wall=None)\n",
        "  h = Nu*k_arrefecimento/(dext_tubos)\n",
        "  return h"
      ],
      "metadata": {
        "id": "6_ykEUcrn9Z7"
      },
      "execution_count": 354,
      "outputs": []
    },
    {
      "cell_type": "markdown",
      "source": [
        "COMPRIMENTO SEM CONSIDERAR CONDENSAÇÃO DA ÁGUA"
      ],
      "metadata": {
        "id": "DaKXcxb6wj3V"
      }
    },
    {
      "cell_type": "code",
      "source": [
        "Rt_cond_tubos = np.log(dext_tubos/dint_tubos)/(2*np.pi*k_inox)\n",
        "vazao_massica_tubos = (vazao_massica_biogas/N)\n",
        "print(vazao_massica_biogas)\n",
        "print(vazao_massica_tubos)\n",
        "Q=0\n",
        "L_tubos_sen = 0\n",
        "T = np.linspace(T_entrada_biogas,T_alvo_biogas,divisoes)\n",
        "for i in range(len(T)-1):\n",
        "  vel_tubos = (vazao_massica_tubos/(((densidade_biogas(P_entrada_biogas,(T[i+1]+T[i])/2)))*A_int_tubos))\n",
        "  reynolds_biogas_sens = ((vel_tubos*dint_tubos*densidade_biogas(P_entrada_biogas,(T[i+1]+T[i])/2)))/(visc_dinamica_biogas(P_entrada_biogas,(T[i+1]+T[i])/2))\n",
        "  Pr_biogas_sens = (cp_biogas(P_entrada_biogas,(T[i+1]+T[i])/2) *visc_dinamica_biogas(P_entrada_biogas,(T[i+1]+T[i])/2) )/(condutividade_biogas(P_entrada_biogas,(T[i+1]+T[i])/2))\n",
        "  Rt_conv_int_tubos = 1/(correlacao_dittus_boelter(reynolds_biogas_sens,Pr_biogas_sens,condutividade_biogas(P_entrada_biogas,(T[i+1]+T[i])/2))*np.pi*dint_tubos)\n",
        "  Rt_conv_ext_tubos = (1/(correlacao_zukauskas_bejan(Re_casco,Pr_casco,NT,ST,SL)*np.pi*dext_tubos))\n",
        "  Q_bio_sens = vazao_massica_tubos*cp_biogas(P_entrada_biogas,(T[i+1]+T[i])/2)*(-T[i+1]+T[i])\n",
        "  L = Q_bio_sens*(Rt_conv_int_tubos+Rt_cond_tubos+Rt_conv_ext_tubos)/((((T[i+1]+T[i])/2)-T_alvo_arrefecimento))\n",
        "  Q = Q_bio_sens + Q\n",
        "  L_tubos_sen = L_tubos_sen + L\n",
        "L_tubos_sen"
      ],
      "metadata": {
        "colab": {
          "base_uri": "https://localhost:8080/"
        },
        "id": "a6MHTFiNlDUl",
        "outputId": "ff061b6b-31de-450e-c311-f5109ea41e8c"
      },
      "execution_count": 355,
      "outputs": [
        {
          "output_type": "stream",
          "name": "stdout",
          "text": [
            "0.019282108992257983\n",
            "0.0002921531665493634\n"
          ]
        },
        {
          "output_type": "execute_result",
          "data": {
            "text/plain": [
              "np.float64(2.462675035701003)"
            ]
          },
          "metadata": {},
          "execution_count": 355
        }
      ]
    },
    {
      "cell_type": "markdown",
      "source": [
        "COMPRIMENTO PARA CONDENSAR VAPOR D'ÁGUA"
      ],
      "metadata": {
        "id": "eDZiM-zD0kPF"
      }
    },
    {
      "cell_type": "code",
      "source": [
        "# Propriedades obtidas na linha de saturação\n",
        "rhol_vp_agua = PropsSI('D', 'T', T_alvo_biogas, 'Q', 0, 'Water')       # kg/m³\n",
        "rhog_vp_agua = PropsSI('D', 'T', T_alvo_biogas, 'Q', 1, 'Water')       # kg/m³\n",
        "mul_vp_agua  = PropsSI('V', 'T', T_alvo_biogas, 'Q', 0, 'Water')       # Pa.s\n",
        "mug_vp_agua  = PropsSI('V', 'T', T_alvo_biogas, 'Q', 1, 'Water')       # Pa.s\n",
        "kl_vp_agua   = PropsSI('L', 'T', T_alvo_biogas, 'Q', 0, 'Water')       # W/m.K\n",
        "Cpl_vp_agua  = PropsSI('C', 'T', T_alvo_biogas, 'Q', 0, 'Water')       # J/kg.K\n",
        "Hvap_vp_agua = PropsSI('H', 'T', T_alvo_biogas, 'Q', 1, 'Water') - \\\n",
        "      PropsSI('H', 'T', T_alvo_biogas, 'Q', 0, 'Water')       # J/kg\n",
        "sigma_vp_agua = PropsSI('SURFACE_TENSION', 'T', T_alvo_biogas, 'Q', 0, 'Water')  # N/m"
      ],
      "metadata": {
        "id": "CUqte4Ft9Oz_"
      },
      "execution_count": 356,
      "outputs": []
    },
    {
      "cell_type": "code",
      "source": [
        "def correlacao_chen_vapor_agua(x,fluid):\n",
        "  # Fluido e condições de operação\n",
        "  fluid = fluid\n",
        "  T_sat = T_alvo_biogas  # Temperatura de saturação em K (100 °C)\n",
        "  Te = 8        # Superaquecimento da parede (T_wall - T_sat) em K         # Título de vapor\n",
        "  # Derivada da pressão de saturação em função da temperatura (dPsat/dT)\n",
        "  delta_T = 0.01  # K\n",
        "  p1 = PropsSI('P', 'T', T_sat - delta_T, 'Q', 0, fluid)\n",
        "  p2 = PropsSI('P', 'T', T_sat + delta_T, 'Q', 0, fluid)\n",
        "  dPsat = (p2 - p1) / (2 * delta_T)  # Pa/K\n",
        "\n",
        "  # Cálculo do coeficiente de convecção\n",
        "  h = bf.Chen_Bennett(vazao_massica_vapor_agua, x, dint_tubos, rhol_vp_agua, rhog_vp_agua, mul_vp_agua, mug_vp_agua, kl_vp_agua, Cpl_vp_agua, Hvap_vp_agua, sigma_vp_agua, dPsat, Te)\n",
        "  return h"
      ],
      "metadata": {
        "id": "C1kcoJ-F6tUI"
      },
      "execution_count": 357,
      "outputs": []
    },
    {
      "cell_type": "code",
      "source": [
        "L_tubo_condensacao = 0\n",
        "Q_cond= 0\n",
        "x_vapor_agua = np.linspace(0.01,0.99,divisoes)\n",
        "vazao_massica_vapor_agua = (vazao_massica_biogas*((PropsSI('M', 'T', T_alvo_biogas, 'P', P_entrada_biogas*fracoes_volumetricas['Water'], 'Water')*fracoes_volumetricas['Water'])/massa_molar_total))/N\n",
        "for i in range(len(x)-1):\n",
        "  Q_lat_vapor_agua = vazao_massica_vapor_agua*(((PropsSI(\"H\", \"T\", T_alvo_biogas, \"Q\", x_vapor_agua[i+1], \"Water\")) - PropsSI(\"H\", \"T\", T_alvo_biogas, \"Q\", x_vapor_agua[i], \"Water\")))\n",
        "  L_tubo_condensacao_temp = Q_lat_vapor_agua*(((np.log(dext_tubos/dint_tubos))/(2*np.pi*k_inox))+(1/(correlacao_chen_vapor_agua(x_vapor_agua[i],'Water')*np.pi*dint_tubos))+((1/(correlacao_zukauskas_bejan(Re_casco,Pr_casco,NT,ST,SL)*np.pi*dext_tubos))))*(1/(-T_alvo_arrefecimento+T_alvo_biogas))\n",
        "  L_tubo_condensacao = L_tubo_condensacao + L_tubo_condensacao_temp\n",
        "  Q_cond = Q_cond + Q_lat_vapor_agua\n",
        "L_tubo_condensacao\n",
        "print(L_tubo_condensacao)\n",
        "print(Q_cond)"
      ],
      "metadata": {
        "colab": {
          "base_uri": "https://localhost:8080/"
        },
        "id": "9AfASfCq0pqA",
        "outputId": "cd2893c5-e54f-42a7-9a87-b24de9ebbd5a"
      },
      "execution_count": 358,
      "outputs": [
        {
          "output_type": "stream",
          "name": "stdout",
          "text": [
            "1.927310597155348\n",
            "24.87425081493278\n"
          ]
        }
      ]
    },
    {
      "cell_type": "code",
      "source": [
        "L_tubos = L_tubos_sen + L_tubo_condensacao\n",
        "L_tubos"
      ],
      "metadata": {
        "colab": {
          "base_uri": "https://localhost:8080/"
        },
        "id": "y5e7F867-5p-",
        "outputId": "f5f56bb6-54d8-49e9-e3b1-592891030052"
      },
      "execution_count": 359,
      "outputs": [
        {
          "output_type": "execute_result",
          "data": {
            "text/plain": [
              "np.float64(4.389985632856351)"
            ]
          },
          "metadata": {},
          "execution_count": 359
        }
      ]
    },
    {
      "cell_type": "code",
      "source": [
        "L_serpentina"
      ],
      "metadata": {
        "colab": {
          "base_uri": "https://localhost:8080/"
        },
        "id": "XWHiEGFcACI8",
        "outputId": "424c675b-aee8-4b27-a1e5-7a0ae9f1132d"
      },
      "execution_count": 360,
      "outputs": [
        {
          "output_type": "execute_result",
          "data": {
            "text/plain": [
              "np.float64(23.103174924571643)"
            ]
          },
          "metadata": {},
          "execution_count": 360
        }
      ]
    },
    {
      "cell_type": "code",
      "source": [
        "cp_aco = 486\n",
        "rho_aco = 8000"
      ],
      "metadata": {
        "id": "vxJ_X38uO7xd"
      },
      "execution_count": 361,
      "outputs": []
    },
    {
      "cell_type": "code",
      "source": [
        "Q_aco = (((np.pi/4)*((dext_tubos**2)-(dint_tubos**2))*L*N*rho_aco)*cp_aco*(T_ambiente-T_alvo_arrefecimento))/tempo_arrefecimento\n",
        "Q_aco"
      ],
      "metadata": {
        "colab": {
          "base_uri": "https://localhost:8080/"
        },
        "id": "I6uRl8KZO6lW",
        "outputId": "2e912373-b6ad-4a1b-aa27-3b26ae31d4ba"
      },
      "execution_count": 362,
      "outputs": [
        {
          "output_type": "execute_result",
          "data": {
            "text/plain": [
              "np.float64(70.9463548743936)"
            ]
          },
          "metadata": {},
          "execution_count": 362
        }
      ]
    },
    {
      "cell_type": "code",
      "source": [],
      "metadata": {
        "id": "fFNkZoMaPacr"
      },
      "execution_count": 362,
      "outputs": []
    }
  ]
}