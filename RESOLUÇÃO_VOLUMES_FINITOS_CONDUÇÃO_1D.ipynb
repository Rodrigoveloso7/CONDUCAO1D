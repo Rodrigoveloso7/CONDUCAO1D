{
  "nbformat": 4,
  "nbformat_minor": 0,
  "metadata": {
    "colab": {
      "provenance": [],
      "authorship_tag": "ABX9TyO0EZIF9YkDkAAfQ+wLS/dp",
      "include_colab_link": true
    },
    "kernelspec": {
      "name": "python3",
      "display_name": "Python 3"
    },
    "language_info": {
      "name": "python"
    }
  },
  "cells": [
    {
      "cell_type": "markdown",
      "metadata": {
        "id": "view-in-github",
        "colab_type": "text"
      },
      "source": [
        "<a href=\"https://colab.research.google.com/github/Rodrigoveloso7/CONDUCAO1D/blob/main/RESOLU%C3%87%C3%83O_VOLUMES_FINITOS_CONDU%C3%87%C3%83O_1D.ipynb\" target=\"_parent\"><img src=\"https://colab.research.google.com/assets/colab-badge.svg\" alt=\"Open In Colab\"/></a>"
      ]
    },
    {
      "cell_type": "code",
      "execution_count": null,
      "metadata": {
        "id": "6x27iVWS9QH8"
      },
      "outputs": [],
      "source": [
        "import numpy as np\n",
        "import matplotlib.pyplot as plt"
      ]
    },
    {
      "cell_type": "markdown",
      "source": [
        "CONSTANTES"
      ],
      "metadata": {
        "id": "Wavt5tL-CH7V"
      }
    },
    {
      "cell_type": "code",
      "source": [
        "TA = 20+273.15 #Kelvin\n",
        "TB = 30+273.15 #Kelvin\n",
        "L = 0.1 # metros\n",
        "k=400 # W/mK\n",
        "q = 10**5 #Wm\n",
        "A=0.01 #m²\n",
        "N =5"
      ],
      "metadata": {
        "id": "Z4SHHLnrCJwh"
      },
      "execution_count": null,
      "outputs": []
    },
    {
      "cell_type": "markdown",
      "source": [
        "DEFINIÇÃO DOS COMPRIMENTOS DE CADA VOLUME DE CONTROLE"
      ],
      "metadata": {
        "id": "pZkLbYvzCnRI"
      }
    },
    {
      "cell_type": "code",
      "source": [
        "dx = N*[0.020]"
      ],
      "metadata": {
        "id": "PmLzulKd9YZt"
      },
      "execution_count": null,
      "outputs": []
    },
    {
      "cell_type": "markdown",
      "source": [
        "DEFINIÇÃO DAS COORDENADAS LESTE DE CADA VOLUME DE CONTROLE"
      ],
      "metadata": {
        "id": "5XxxlEfrCt_B"
      }
    },
    {
      "cell_type": "code",
      "source": [
        "xe = np.zeros(len(dx)+1)"
      ],
      "metadata": {
        "id": "gdsLqD0R-HMe"
      },
      "execution_count": null,
      "outputs": []
    },
    {
      "cell_type": "code",
      "source": [
        "for i in range(1,len(xe)-1):\n",
        "  xe[i] = xe[i-1]+dx[i-1]\n",
        "xe[0] = 0\n",
        "xe[-1] = L"
      ],
      "metadata": {
        "id": "t4mHSRp--r_P"
      },
      "execution_count": null,
      "outputs": []
    },
    {
      "cell_type": "code",
      "source": [
        "xe"
      ],
      "metadata": {
        "colab": {
          "base_uri": "https://localhost:8080/"
        },
        "id": "XBYsVwZSkzkb",
        "outputId": "141bd5ce-be45-40a8-ae6f-9905686112ce"
      },
      "execution_count": null,
      "outputs": [
        {
          "output_type": "execute_result",
          "data": {
            "text/plain": [
              "array([0.  , 0.02, 0.04, 0.06, 0.08, 0.1 ])"
            ]
          },
          "metadata": {},
          "execution_count": 308
        }
      ]
    },
    {
      "cell_type": "markdown",
      "source": [
        "DEFINIÇÃO DA COORDENADA CENTRAL DE CADA VOLUME DE CONTROLE"
      ],
      "metadata": {
        "id": "F6mBFZrIC4FY"
      }
    },
    {
      "cell_type": "code",
      "source": [
        "xp = np.zeros_like(dx)"
      ],
      "metadata": {
        "id": "vjXRfS-MDf31"
      },
      "execution_count": null,
      "outputs": []
    },
    {
      "cell_type": "code",
      "source": [
        "for i in range(0,len(dx)):\n",
        "  xp[i] = (xe[i+1]+xe[i])/2"
      ],
      "metadata": {
        "id": "xT6ZRSwe__1b"
      },
      "execution_count": null,
      "outputs": []
    },
    {
      "cell_type": "code",
      "source": [
        "xp"
      ],
      "metadata": {
        "colab": {
          "base_uri": "https://localhost:8080/"
        },
        "id": "ZieL6X01mORB",
        "outputId": "06cc6c14-6704-4ad3-92df-7389f22dae30"
      },
      "execution_count": null,
      "outputs": [
        {
          "output_type": "execute_result",
          "data": {
            "text/plain": [
              "array([0.01, 0.03, 0.05, 0.07, 0.09])"
            ]
          },
          "metadata": {},
          "execution_count": 311
        }
      ]
    },
    {
      "cell_type": "code",
      "source": [
        "dxe = np.zeros_like(xe)"
      ],
      "metadata": {
        "id": "5m4NRw0oFcmu"
      },
      "execution_count": null,
      "outputs": []
    },
    {
      "cell_type": "code",
      "source": [
        "dxe"
      ],
      "metadata": {
        "colab": {
          "base_uri": "https://localhost:8080/"
        },
        "id": "aSZMANaknIma",
        "outputId": "b74dc335-1f09-4ee1-9b85-38ba3be5b3f1"
      },
      "execution_count": null,
      "outputs": [
        {
          "output_type": "execute_result",
          "data": {
            "text/plain": [
              "array([0., 0., 0., 0., 0., 0.])"
            ]
          },
          "metadata": {},
          "execution_count": 313
        }
      ]
    },
    {
      "cell_type": "code",
      "source": [
        "for i in range(0,len(xp)-1):\n",
        "  dxe[i+1] = xp[i+1]-xp[i]\n",
        "dxe[0] = dxe[1]\n",
        "dxe[-1] = dx[-1]\n",
        "dxe"
      ],
      "metadata": {
        "colab": {
          "base_uri": "https://localhost:8080/"
        },
        "id": "wZ6qMq1DFluM",
        "outputId": "dd894521-529c-46c7-de92-2a6e2823b17d"
      },
      "execution_count": null,
      "outputs": [
        {
          "output_type": "execute_result",
          "data": {
            "text/plain": [
              "array([0.02, 0.02, 0.02, 0.02, 0.02, 0.02])"
            ]
          },
          "metadata": {},
          "execution_count": 314
        }
      ]
    },
    {
      "cell_type": "markdown",
      "source": [
        "DISCRETIZAÇÃO DA EQUAÇÃO DIFERENCIAL"
      ],
      "metadata": {
        "id": "jF9yEy9T7CDy"
      }
    },
    {
      "cell_type": "code",
      "source": [
        "A = np.zeros((len(dx)+2,len(dx)+2))\n",
        "B = np.zeros((len(dx)+2,1))"
      ],
      "metadata": {
        "id": "9ivpYRO57NqP"
      },
      "execution_count": null,
      "outputs": []
    },
    {
      "cell_type": "markdown",
      "source": [
        "DEFININDO CONDIÇÃO DE CONTORNO EM X=0"
      ],
      "metadata": {
        "id": "eDca22vXAsWF"
      }
    },
    {
      "cell_type": "code",
      "source": [
        "A[0,0] = 1\n",
        "A[0,1] = -1\n",
        "B[0,-1] = 2*TA"
      ],
      "metadata": {
        "id": "yhwj0vJm7Zd3"
      },
      "execution_count": null,
      "outputs": []
    },
    {
      "cell_type": "markdown",
      "source": [
        "DEFININDO CONDIÇÃO DE CONTORNO EM X=L"
      ],
      "metadata": {
        "id": "E0I0MvtdAxYW"
      }
    },
    {
      "cell_type": "code",
      "source": [
        "A[-1,-1] = 1\n",
        "A[-1,-2] = -1\n",
        "B[-1,-1] = 2*TB"
      ],
      "metadata": {
        "id": "ZdTWZlfrAq7z"
      },
      "execution_count": null,
      "outputs": []
    },
    {
      "cell_type": "code",
      "source": [
        "B"
      ],
      "metadata": {
        "colab": {
          "base_uri": "https://localhost:8080/"
        },
        "id": "mB4uvDjQwDWK",
        "outputId": "a163565c-9a80-4a69-a9f9-9517ff1718f9"
      },
      "execution_count": null,
      "outputs": [
        {
          "output_type": "execute_result",
          "data": {
            "text/plain": [
              "array([[586.3],\n",
              "       [  0. ],\n",
              "       [  0. ],\n",
              "       [  0. ],\n",
              "       [  0. ],\n",
              "       [  0. ],\n",
              "       [606.3]])"
            ]
          },
          "metadata": {},
          "execution_count": 318
        }
      ]
    },
    {
      "cell_type": "code",
      "source": [
        "dxe"
      ],
      "metadata": {
        "id": "RdOeGEJ2G5Pj",
        "outputId": "19310589-42ce-4f38-8dc5-4d1278b1d127",
        "colab": {
          "base_uri": "https://localhost:8080/"
        }
      },
      "execution_count": null,
      "outputs": [
        {
          "output_type": "execute_result",
          "data": {
            "text/plain": [
              "array([0.02, 0.02, 0.02, 0.02, 0.02, 0.02])"
            ]
          },
          "metadata": {},
          "execution_count": 319
        }
      ]
    },
    {
      "cell_type": "markdown",
      "source": [
        "CALCULANDO TERMOS ae aw ap DE P=1 ATE P=N"
      ],
      "metadata": {
        "id": "Ki2SOcMoECrU"
      }
    },
    {
      "cell_type": "code",
      "source": [
        "for i in range(1,len(dx)+1):\n",
        "  A[i,i-1] = k/dxe[i-1]        #aw\n",
        "  A[i,i+1] = k/dxe[i]          #ae\n",
        "  A[i,i] = A[i,i-1]+A[i,i+1]   #ap = ae + aw\n",
        "  B[i,0] = (q/xp[i-1])*dx[i-1] #bp\n",
        "A"
      ],
      "metadata": {
        "id": "ogejhau9A9qW",
        "colab": {
          "base_uri": "https://localhost:8080/"
        },
        "outputId": "4c068cdf-cd06-4cfd-e2da-443e121e75aa"
      },
      "execution_count": null,
      "outputs": [
        {
          "output_type": "execute_result",
          "data": {
            "text/plain": [
              "array([[ 1.e+00, -1.e+00,  0.e+00,  0.e+00,  0.e+00,  0.e+00,  0.e+00],\n",
              "       [ 2.e+04,  4.e+04,  2.e+04,  0.e+00,  0.e+00,  0.e+00,  0.e+00],\n",
              "       [ 0.e+00,  2.e+04,  4.e+04,  2.e+04,  0.e+00,  0.e+00,  0.e+00],\n",
              "       [ 0.e+00,  0.e+00,  2.e+04,  4.e+04,  2.e+04,  0.e+00,  0.e+00],\n",
              "       [ 0.e+00,  0.e+00,  0.e+00,  2.e+04,  4.e+04,  2.e+04,  0.e+00],\n",
              "       [ 0.e+00,  0.e+00,  0.e+00,  0.e+00,  2.e+04,  4.e+04,  2.e+04],\n",
              "       [ 0.e+00,  0.e+00,  0.e+00,  0.e+00,  0.e+00, -1.e+00,  1.e+00]])"
            ]
          },
          "metadata": {},
          "execution_count": 320
        }
      ]
    },
    {
      "cell_type": "code",
      "source": [
        "B"
      ],
      "metadata": {
        "colab": {
          "base_uri": "https://localhost:8080/"
        },
        "id": "s88haMXgvTWy",
        "outputId": "f885a532-5f83-44c6-8f41-ee03c6dc25ed"
      },
      "execution_count": null,
      "outputs": [
        {
          "output_type": "execute_result",
          "data": {
            "text/plain": [
              "array([[   586.3       ],\n",
              "       [200000.        ],\n",
              "       [ 66666.66666667],\n",
              "       [ 40000.        ],\n",
              "       [ 28571.42857143],\n",
              "       [ 22222.22222222],\n",
              "       [   606.3       ]])"
            ]
          },
          "metadata": {},
          "execution_count": 321
        }
      ]
    },
    {
      "cell_type": "code",
      "source": [
        "def tdma_solver(matriz_coef,b):\n",
        "  N = len(matriz_coef)-2\n",
        "  Pp = [0]*(N+2)\n",
        "  Qp = [0]*(N+2)\n",
        "  #Definindo P0 e Q0\n",
        "  P0 = matriz_coef[0][1]/matriz_coef[0][0]\n",
        "  Q0 = b[0]/matriz_coef[0][0]\n",
        "\n",
        "  Pp[0] = P0\n",
        "  Qp[0] = Q0\n",
        "\n",
        "  # print(len(Pp))\n",
        "  #Definindo Pp e Qp\n",
        "  for p in range(1,N+1):\n",
        "    Pp[p] =(matriz_coef[p][p+1])/(matriz_coef[p][p]-(matriz_coef[p][p-1]*Pp[p-1]))\n",
        "  Pp[N+1] = 0\n",
        "  for p in range(1,N+2):\n",
        "    Qp[p] =(b[p]+matriz_coef[p][p-1]*Qp[p-1])/(matriz_coef[p][p]-(matriz_coef[p][p-1]*Pp[p-1]))\n",
        "\n",
        "  Tn = [0]*(N+2)\n",
        "  Tn[N+1] = Qp[N+1]\n",
        "  print(Tn)\n",
        "  for i in range(N,-1,-1):\n",
        "    Tn[i] = Pp[i]*Tn[i+1]+Qp[i]\n",
        "\n",
        "\n",
        "  return Tn"
      ],
      "metadata": {
        "id": "vDB7DgphvUoQ"
      },
      "execution_count": null,
      "outputs": []
    },
    {
      "cell_type": "code",
      "source": [
        "xp = np.append(xp,L)\n",
        "xp = np.insert(xp,0,0)"
      ],
      "metadata": {
        "id": "llgzsE4P0I4M"
      },
      "execution_count": null,
      "outputs": []
    },
    {
      "cell_type": "code",
      "source": [
        "xp"
      ],
      "metadata": {
        "colab": {
          "base_uri": "https://localhost:8080/"
        },
        "id": "Vaow6Zr407Lf",
        "outputId": "78d7c94e-54ee-44f2-afdc-c30167de374d"
      },
      "execution_count": null,
      "outputs": [
        {
          "output_type": "execute_result",
          "data": {
            "text/plain": [
              "array([0.  , 0.01, 0.03, 0.05, 0.07, 0.09, 0.1 ])"
            ]
          },
          "metadata": {},
          "execution_count": 324
        }
      ]
    },
    {
      "cell_type": "code",
      "source": [
        "T_VF= tdma_solver(A,B)"
      ],
      "metadata": {
        "id": "QPh9DjyIvnNa",
        "colab": {
          "base_uri": "https://localhost:8080/"
        },
        "outputId": "06d0958b-dfcb-4786-933d-6ac9892bd7b8"
      },
      "execution_count": null,
      "outputs": [
        {
          "output_type": "stream",
          "name": "stdout",
          "text": [
            "[0, 0, 0, 0, 0, 0, array([301.65])]\n"
          ]
        }
      ]
    },
    {
      "cell_type": "code",
      "source": [
        "T_VF[0] = np.array([TA])\n",
        "T_VF[-1] = np.array([TB])"
      ],
      "metadata": {
        "id": "z9NBMET81QpW"
      },
      "execution_count": null,
      "outputs": []
    },
    {
      "cell_type": "code",
      "source": [
        "T_VF"
      ],
      "metadata": {
        "colab": {
          "base_uri": "https://localhost:8080/"
        },
        "id": "UtPajcIj4Vjp",
        "outputId": "1dba16f9-c651-4c23-804b-81bd34b4a030"
      },
      "execution_count": null,
      "outputs": [
        {
          "output_type": "execute_result",
          "data": {
            "text/plain": [
              "[array([293.15]),\n",
              " array([300.58650794]),\n",
              " array([305.45952381]),\n",
              " array([306.99920635]),\n",
              " array([306.53888889]),\n",
              " array([304.65]),\n",
              " array([303.15])]"
            ]
          },
          "metadata": {},
          "execution_count": 327
        }
      ]
    },
    {
      "cell_type": "code",
      "source": [
        "plt.plot(xp,T_VF[:],color='BLACK')\n",
        "plt.title('Temperatura em função da posição')\n",
        "plt.xlabel('x[m]')\n",
        "plt.ylabel('T[K]')\n",
        "plt.grid()"
      ],
      "metadata": {
        "colab": {
          "base_uri": "https://localhost:8080/",
          "height": 472
        },
        "id": "5vXjHFYlwXi_",
        "outputId": "57fafd50-559a-4524-85f4-6fa04f961a2a"
      },
      "execution_count": null,
      "outputs": [
        {
          "output_type": "display_data",
          "data": {
            "text/plain": [
              "<Figure size 640x480 with 1 Axes>"
            ],
            "image/png": "[encoded data removed]"
          },
          "metadata": {}
        }
      ]
    },
    {
      "cell_type": "code",
      "source": [
        "T_VF"
      ],
      "metadata": {
        "id": "OSibJ0Snwc2a",
        "colab": {
          "base_uri": "https://localhost:8080/"
        },
        "outputId": "cbb306a7-4f72-4851-aa85-5170bb0a8be2"
      },
      "execution_count": null,
      "outputs": [
        {
          "output_type": "execute_result",
          "data": {
            "text/plain": [
              "[array([293.15]),\n",
              " array([300.58650794]),\n",
              " array([305.45952381]),\n",
              " array([306.99920635]),\n",
              " array([306.53888889]),\n",
              " array([304.65]),\n",
              " array([303.15])]"
            ]
          },
          "metadata": {},
          "execution_count": 329
        }
      ]
    },
    {
      "cell_type": "code",
      "source": [
        "[300.58650794,305.45952381,306.99920635,306.53888889,304.65]"
      ],
      "metadata": {
        "id": "Fwf32ugVNE2X",
        "colab": {
          "base_uri": "https://localhost:8080/"
        },
        "outputId": "23a29c17-02ad-4b2d-f324-5de111ad91ab"
      },
      "execution_count": null,
      "outputs": [
        {
          "output_type": "execute_result",
          "data": {
            "text/plain": [
              "[300.58650794, 305.45952381, 306.99920635, 306.53888889, 304.65]"
            ]
          },
          "metadata": {},
          "execution_count": 330
        }
      ]
    }
  ]
}